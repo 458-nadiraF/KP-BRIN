{
 "cells": [
  {
   "cell_type": "markdown",
   "metadata": {},
   "source": [
    "## Import libraries"
   ]
  },
  {
   "cell_type": "code",
   "execution_count": 1,
   "metadata": {},
   "outputs": [],
   "source": [
    "import ee\n",
    "import geemap\n",
    "import os\n",
    "import pandas as pd\n",
    "import csv"
   ]
  },
  {
   "cell_type": "markdown",
   "metadata": {},
   "source": [
    "## Create an interactive map"
   ]
  },
  {
   "cell_type": "code",
   "execution_count": 2,
   "metadata": {},
   "outputs": [],
   "source": [
    "# Map = geemap.Map(center=[40, -100], zoom=4)\n",
    "Map = geemap.Map()\n",
    "# Map"
   ]
  },
  {
   "cell_type": "markdown",
   "metadata": {},
   "source": [
    "## Add Earth Engine Python script"
   ]
  },
  {
   "cell_type": "code",
   "execution_count": 28,
   "metadata": {},
   "outputs": [],
   "source": [
    "#Convert 'nilai' property from string to number.\n",
    "def func_vjt(feature):\n",
    "    num = ee.Number.parse(feature.get('nilai'))\n",
    "    return feature.set('nilai', num)\n",
    "\n",
    "sample1 = ee.FeatureCollection('projects/nadirafm/assets/2020_01').map(func_vjt)\n",
    "start_date = ee.Date('2020-01-01')\n",
    "finish_date = ee.Date('2020-01-31')"
   ]
  },
  {
   "cell_type": "code",
   "execution_count": 29,
   "metadata": {},
   "outputs": [],
   "source": [
    "\n",
    "\n",
    "# Add Earth Engine dataset\n",
    "# image = ee.Image(\"USGS/SRTMGL1_003\")\n",
    "polygons = ee.FeatureCollection('projects/nadirafm/assets/box_karawang');\n",
    "\n",
    "# Sample in 2020\n",
    "# sample1 = ee.FeatureCollection('projects/nadirafm/assets/2020_12').map(func_vjt)\n",
    "# sample2 = ee.FeatureCollection('projects/nadirafm/assets/2020_02').map(func_vjt)\n",
    "# sample3 = ee.FeatureCollection('projects/nadirafm/assets/2020_03').map(func_vjt)\n",
    "# sample4 = ee.FeatureCollection('projects/nadirafm/assets/2020_04').map(func_vjt)\n",
    "# sample5 = ee.FeatureCollection('projects/nadirafm/assets/2020_05').map(func_vjt)\n",
    "# sample6 = ee.FeatureCollection('projects/nadirafm/assets/2020_06').map(func_vjt)\n",
    "# sample7 = ee.FeatureCollection('projects/nadirafm/assets/2020_07').map(func_vjt)\n",
    "# sample8 = ee.FeatureCollection('projects/nadirafm/assets/2020_08').map(func_vjt)\n",
    "# sample9 = ee.FeatureCollection('projects/nadirafm/assets/2020_09').map(func_vjt)\n",
    "# sample10 = ee.FeatureCollection('projects/nadirafm/assets/2020_10').map(func_vjt)\n",
    "# sample11 = ee.FeatureCollection('projects/nadirafm/assets/2020_11').map(func_vjt)\n",
    "# sample12 = ee.FeatureCollection('projects/nadirafm/assets/2020_12').map(func_vjt)\n",
    "\n",
    "# Get time for prediction\n",
    "\n",
    "orbit = 'ASCENDING'\n",
    "# januari: 1-31\n",
    "# feb: 1-29\n",
    "# maret: 1-31\n",
    "# april: 1-30\n",
    "# mei: 1-31\n",
    "# juni: 1-30\n",
    "# juli: 1-31\n",
    "# agustus: 1-31\n",
    "# september: 1-30\n",
    "# oktober: 1-31\n",
    "# november: 1-30\n",
    "# des: 1-31\n",
    "def func_mgd(image):\n",
    "    return image.clip(polygons)\n",
    "\n",
    "# Get the VV collection.\n",
    "collectionS1 = ee.ImageCollection('COPERNICUS/S1_GRD').map(func_mgd) \\\n",
    "    .filter(ee.Filter.listContains('transmitterReceiverPolarisation', 'VV')) \\\n",
    "    .filter(ee.Filter.eq('instrumentMode', 'IW')) \\\n",
    "    .filterDate(start_date, finish_date) \\\n",
    "    .filterBounds(polygons)\n",
    "\n",
    "collectionVV = collectionS1.select('VV')\n",
    "collectionVH = collectionS1.select('VH')\n",
    "\n",
    "VV = ee.Image(collectionVV.median())\n",
    "VH = ee.Image(collectionVH.median())\n",
    "VVVH = VV.divide(VH)\n",
    "\n",
    "bandsall = ['0_VH', '1_VV', '2_VV']\n",
    "bandsvh = ['0_VH']\n",
    "bandsvv = ['1_VV']\n",
    "bandsvvvh = ['2_VV']\n",
    "\n",
    "mosaic = collectionVV.mosaic()\n",
    "\n",
    "fincol = ee.ImageCollection([VH, VV, VVVH])\n",
    "finLayer = fincol.toBands()\n",
    "# Training seluruh bulan\n",
    "label = 'nilai'\n",
    "trainingall = finLayer.select(bandsall).sampleRegions(collection= sample1, properties= [label], scale = 12);\n",
    "trainedall = ee.Classifier.smileCart().train(trainingall, label, bandsall)\n",
    "classifiedall = finLayer.select(bandsall).classify(trainedall)\n",
    "Map.centerObject(polygons, 11)\n",
    "Map.addLayer(sample1, {}, 'Sampel', True)\n",
    "palette = ['0F3460', '06FF00', '224B0C', 'FFE400', '541212', 'FF449F', 'EB1D36', 'CA955C']\n",
    "# badan air --> blue: 0F3460\n",
    "# vegetasi awal --> green: 06FF00\n",
    "# vegetasi akhir --> dark green: 224B0C\n",
    "# generative --> yellow: FFE400\n",
    "# panen dan pl --> dark red: 541212 \n",
    "# sawah bukan padi --> magenta: FF449F\n",
    "# lain-lain --> red: EB1D36\n",
    "# permukiman --> brown: CA955C\n",
    "\n",
    "\n",
    "#Deklarasi Map\n",
    "Map.addLayer(classifiedall, {'min': 0, 'max': 8, 'palette': palette}, 'Class CART')\n",
    "\n",
    "zonesall = classifiedall.gt(0).add(classifiedall.gt(1)) \\\n",
    ".add(classifiedall.gt(2)) \\\n",
    ".add(classifiedall.gt(3)) \\\n",
    ".add(classifiedall.gt(4)) \\\n",
    ".add(classifiedall.gt(5)) \\\n",
    ".add(classifiedall.gt(6)) \\\n",
    ".add(classifiedall.gt(7))\n",
    "\n",
    "vectorsall = zonesall.addBands(classifiedall).reduceToVectors(geometry= polygons, crs=classifiedall.projection(), scale= 100,geometryType= 'polygon', eightConnected= False, labelProperty= 'zone', reducer= ee.Reducer.mean())\n",
    "\n",
    "# # Mau liat map yg udh dicrop\n",
    "polygons1 = ee.FeatureCollection('projects/nadirafm/assets/kab_karawang')\n",
    "new1 = classifiedall.clip(polygons1)\n",
    "# # Crop itu yg label 1-4 aja\n",
    "# # standing crop: v1,v2, dan g\n",
    "Map.addLayer(new1, {'min': 1, 'max': 8, 'palette': palette}, 'CART - Crop')\n",
    "Map.addLayer(new1, {'min': 1, 'max': 4, 'palette': palette}, 'CART - sawah aja')\n",
    "Map.addLayer(polygons1, {}, 'kabupaten')"
   ]
  },
  {
   "cell_type": "markdown",
   "metadata": {},
   "source": [
    "## Download"
   ]
  },
  {
   "cell_type": "code",
   "execution_count": null,
   "metadata": {},
   "outputs": [],
   "source": [
    "# new2 = ee.Image.pixelLonLat() # buat 2 band baru yang berisi informasi X dan Y\n",
    "# new3 = new1.addBands(new2) # tambahkan kedua band tersebut ke hasil pemodelan\n",
    "# Map.addLayer(new2, {}, 'Pixels') # tampilkan di map\n",
    "# vectors = new3.sample(region=polygons, scale=100, geometries=True) # resampling image dengan skala 10000. Scale=10000 mencerminkan resampling dilakukan seti1p 10.000 meter = 10 km. Ini hanya untuk memberikan gambaran saja. Tuk kondisi sebenarnya resampling scale=10 atau scale=100.\n",
    "# # print(vectors)\n",
    "# out_shp = 'Downloads/cart2.csv' # definisikan letak dan nama file keluaran\n",
    "# geemap.ee_to_csv(vectors, out_shp) #export menjadi shape file (atau CSV, terserah). Pada contoh "
   ]
  },
  {
   "cell_type": "markdown",
   "metadata": {},
   "source": [
    "## Hitung Akurasi"
   ]
  },
  {
   "cell_type": "markdown",
   "metadata": {},
   "source": [
    "### Januari"
   ]
  },
  {
   "cell_type": "code",
   "execution_count": 30,
   "metadata": {},
   "outputs": [
    {
     "data": {
      "text/plain": [
       "[[1955, 0, 0, 0, 24, 0, 0, 0],\n",
       " [40, 162, 0, 0, 1, 0, 0, 0],\n",
       " [16, 0, 75, 0, 0, 0, 0, 0],\n",
       " [6, 0, 0, 21, 1, 0, 0, 0],\n",
       " [154, 0, 0, 0, 933, 0, 0, 23],\n",
       " [0, 0, 0, 0, 5, 10, 0, 1],\n",
       " [139, 0, 0, 0, 41, 0, 266, 57],\n",
       " [14, 0, 0, 0, 103, 0, 0, 471]]"
      ]
     },
     "execution_count": 30,
     "metadata": {},
     "output_type": "execute_result"
    }
   ],
   "source": [
    "# Sample Validasi\n",
    "sampleCoba = ee.FeatureCollection('projects/nadirafm/assets/2020_01').map(func_vjt)\n",
    "\n",
    "# Dataset Validasi\n",
    "validation = finLayer.select(bandsall).sampleRegions(collection= sampleCoba, properties= [label], scale = 12);\n",
    "\n",
    "# Training machine learning\n",
    "trainedall1 = ee.Classifier.smileCart(1000).train(trainingall, label, bandsall)\n",
    "# trainedall1 = ee.Classifier.smileRandomForest(10).train(trainingall, label, bandsall)\n",
    "# trainedall1 = ee.Classifier.smileGradientTreeBoost(10).train(trainingall, label, bandsall)\n",
    "\n",
    "validated = validation.classify(trainedall1)\n",
    "\n",
    "# Referensi: https://book.geemap.org/chapters/06_data_analysis.html#accuracy-assessment\n",
    "test_accuracy1 = validated.errorMatrix('nilai','classification')\n",
    "\n",
    "# # test_accuracy.getInfo()\n",
    "test_accuracy1.getInfo()"
   ]
  },
  {
   "cell_type": "code",
   "execution_count": null,
   "metadata": {},
   "outputs": [],
   "source": [
    "test_accuracy1.kappa().getInfo()"
   ]
  },
  {
   "cell_type": "markdown",
   "metadata": {},
   "source": [
    "### Februari"
   ]
  },
  {
   "cell_type": "code",
   "execution_count": null,
   "metadata": {},
   "outputs": [],
   "source": [
    "# Sample Validasi\n",
    "sampleCoba = ee.FeatureCollection('projects/nadirafm/assets/2020_02').map(func_vjt)\n",
    "\n",
    "# Dataset Validasi\n",
    "validation = finLayer.select(bandsall).sampleRegions(collection= sampleCoba, properties= [label], scale = 12);\n",
    "\n",
    "# Training machine learning\n",
    "trainedall1 = ee.Classifier.smileCart(1000).train(trainingall, label, bandsall)\n",
    "# trainedall1 = ee.Classifier.smileRandomForest(10).train(trainingall, label, bandsall)\n",
    "# trainedall1 = ee.Classifier.smileGradientTreeBoost(10).train(trainingall, label, bandsall)\n",
    "\n",
    "validated = validation.classify(trainedall1)\n",
    "\n",
    "# Referensi: https://book.geemap.org/chapters/06_data_analysis.html#accuracy-assessment\n",
    "test_accuracy2 = validated.errorMatrix('nilai','classification')\n",
    "\n",
    "# # test_accuracy.getInfo()\n",
    "test_accuracy2.accuracy().getInfo()"
   ]
  },
  {
   "cell_type": "code",
   "execution_count": null,
   "metadata": {},
   "outputs": [],
   "source": [
    "test_accuracy2.kappa().getInfo()"
   ]
  },
  {
   "cell_type": "markdown",
   "metadata": {},
   "source": [
    "### Maret - Tidak digunakan karena data tidak valid"
   ]
  },
  {
   "cell_type": "code",
   "execution_count": null,
   "metadata": {},
   "outputs": [],
   "source": [
    "# Sample Validasi\n",
    "sample3 = ee.FeatureCollection('projects/nadirafm/assets/2020_03').map(func_vjt)\n",
    "sample3 = finLayer.select(bandsall).sampleRegions(collection= sample3, properties= [label], scale = 12);\n",
    "sample = sample3.randomColumn()\n",
    "\n",
    "split = 0.7\n",
    "\n",
    "trainingall = sample.filter(ee.Filter.lt('random', split))\n",
    "# Dataset Validasi\n",
    "validation3 = sample.filter(ee.Filter.gte('random', split))\n",
    "# Training machine learning\n",
    "trainedall3 = ee.Classifier.smileCart(10).train(trainingall, label, bandsall)\n",
    "\n",
    "validated3 = validation3.classify(trainedall3)\n",
    "\n",
    "# Test akurasi\n",
    "# Referensi: https://book.geemap.org/chapters/06_data_analysis.html#accuracy-assessment\n",
    "test_accuracy3 = validated3.errorMatrix('nilai','classification')\n",
    "\n",
    "# # test_accuracy.getInfo() maret\n",
    "test_accuracy3.accuracy().getInfo()"
   ]
  },
  {
   "cell_type": "markdown",
   "metadata": {},
   "source": [
    "### April"
   ]
  },
  {
   "cell_type": "code",
   "execution_count": null,
   "metadata": {},
   "outputs": [],
   "source": [
    "# Sample Validasi\n",
    "sampleCoba = ee.FeatureCollection('projects/nadirafm/assets/2020_04').map(func_vjt)\n",
    "\n",
    "# Dataset Validasi\n",
    "validation = finLayer.select(bandsall).sampleRegions(collection= sampleCoba, properties= [label], scale = 12);\n",
    "\n",
    "# Training machine learning\n",
    "trainedall1 = ee.Classifier.smileCart(1000).train(trainingall, label, bandsall)\n",
    "# trainedall1 = ee.Classifier.smileRandomForest(10).train(trainingall, label, bandsall)\n",
    "# trainedall1 = ee.Classifier.smileGradientTreeBoost(10).train(trainingall, label, bandsall)\n",
    "\n",
    "validated = validation.classify(trainedall1)\n",
    "\n",
    "# Referensi: https://book.geemap.org/chapters/06_data_analysis.html#accuracy-assessment\n",
    "test_accuracy4 = validated.errorMatrix('nilai','classification')\n",
    "\n",
    "# # test_accuracy.getInfo()\n",
    "test_accuracy4.accuracy().getInfo()"
   ]
  },
  {
   "cell_type": "code",
   "execution_count": null,
   "metadata": {},
   "outputs": [],
   "source": [
    "test_accuracy4.kappa().getInfo()"
   ]
  },
  {
   "cell_type": "markdown",
   "metadata": {},
   "source": [
    "### Mei"
   ]
  },
  {
   "cell_type": "code",
   "execution_count": null,
   "metadata": {},
   "outputs": [],
   "source": [
    "# Sample Validasi\n",
    "sampleCoba = ee.FeatureCollection('projects/nadirafm/assets/2020_05').map(func_vjt)\n",
    "\n",
    "# Dataset Validasi\n",
    "validation = finLayer.select(bandsall).sampleRegions(collection= sampleCoba, properties= [label], scale = 12);\n",
    "\n",
    "# Training machine learning\n",
    "trainedall1 = ee.Classifier.smileCart(1000).train(trainingall, label, bandsall)\n",
    "# trainedall1 = ee.Classifier.smileRandomForest(10).train(trainingall, label, bandsall)\n",
    "# trainedall1 = ee.Classifier.smileGradientTreeBoost(10).train(trainingall, label, bandsall)\n",
    "\n",
    "validated = validation.classify(trainedall1)\n",
    "\n",
    "# Referensi: https://book.geemap.org/chapters/06_data_analysis.html#accuracy-assessment\n",
    "test_accuracy5 = validated.errorMatrix('nilai','classification')\n",
    "\n",
    "# # test_accuracy.getInfo()\n",
    "test_accuracy5.accuracy().getInfo()"
   ]
  },
  {
   "cell_type": "code",
   "execution_count": null,
   "metadata": {},
   "outputs": [],
   "source": [
    "test_accuracy5.producersAccuracy().getInfo()"
   ]
  },
  {
   "cell_type": "code",
   "execution_count": null,
   "metadata": {},
   "outputs": [],
   "source": [
    "test_accuracy5.kappa().getInfo()"
   ]
  },
  {
   "cell_type": "markdown",
   "metadata": {},
   "source": [
    "### Juni"
   ]
  },
  {
   "cell_type": "code",
   "execution_count": null,
   "metadata": {},
   "outputs": [],
   "source": [
    "# Sample Validasi\n",
    "sampleCoba = ee.FeatureCollection('projects/nadirafm/assets/2020_06').map(func_vjt)\n",
    "\n",
    "# Dataset Validasi\n",
    "validation = finLayer.select(bandsall).sampleRegions(collection= sampleCoba, properties= [label], scale = 12);\n",
    "\n",
    "# Training machine learning\n",
    "trainedall1 = ee.Classifier.smileCart(1000).train(trainingall, label, bandsall)\n",
    "# trainedall1 = ee.Classifier.smileRandomForest(10).train(trainingall, label, bandsall)\n",
    "# trainedall1 = ee.Classifier.smileGradientTreeBoost(10).train(trainingall, label, bandsall)\n",
    "\n",
    "validated = validation.classify(trainedall1)\n",
    "\n",
    "# Referensi: https://book.geemap.org/chapters/06_data_analysis.html#accuracy-assessment\n",
    "test_accuracy6 = validated.errorMatrix('nilai','classification')\n",
    "\n",
    "# # test_accuracy.getInfo()\n",
    "test_accuracy6.accuracy().getInfo()"
   ]
  },
  {
   "cell_type": "code",
   "execution_count": null,
   "metadata": {},
   "outputs": [],
   "source": [
    "test_accuracy6.kappa().getInfo()"
   ]
  },
  {
   "cell_type": "markdown",
   "metadata": {},
   "source": [
    "### Juli"
   ]
  },
  {
   "cell_type": "code",
   "execution_count": 5,
   "metadata": {},
   "outputs": [
    {
     "data": {
      "text/plain": [
       "0.8430721558211598"
      ]
     },
     "execution_count": 5,
     "metadata": {},
     "output_type": "execute_result"
    }
   ],
   "source": [
    "# Sample Validasi\n",
    "sampleCoba = ee.FeatureCollection('projects/nadirafm/assets/2020_07').map(func_vjt)\n",
    "\n",
    "# Dataset Validasi\n",
    "validation = finLayer.select(bandsall).sampleRegions(collection= sampleCoba, properties= [label], scale = 12);\n",
    "\n",
    "# Training machine learning\n",
    "trainedall1 = ee.Classifier.smileCart(1000).train(trainingall, label, bandsall)\n",
    "# trainedall1 = ee.Classifier.smileRandomForest(10).train(trainingall, label, bandsall)\n",
    "# trainedall1 = ee.Classifier.smileGradientTreeBoost(10).train(trainingall, label, bandsall)\n",
    "\n",
    "validated = validation.classify(trainedall1)\n",
    "\n",
    "# Referensi: https://book.geemap.org/chapters/06_data_analysis.html#accuracy-assessment\n",
    "test_accuracy7= validated.errorMatrix('nilai','classification')\n",
    "\n",
    "# # test_accuracy.getInfo()\n",
    "test_accuracy7.accuracy().getInfo()"
   ]
  },
  {
   "cell_type": "code",
   "execution_count": 6,
   "metadata": {},
   "outputs": [
    {
     "data": {
      "text/plain": [
       "0.7763302773689682"
      ]
     },
     "execution_count": 6,
     "metadata": {},
     "output_type": "execute_result"
    }
   ],
   "source": [
    "test_accuracy7.kappa().getInfo()"
   ]
  },
  {
   "cell_type": "markdown",
   "metadata": {},
   "source": [
    "### Agustus"
   ]
  },
  {
   "cell_type": "code",
   "execution_count": 9,
   "metadata": {},
   "outputs": [
    {
     "data": {
      "text/plain": [
       "0.8273572377158035"
      ]
     },
     "execution_count": 9,
     "metadata": {},
     "output_type": "execute_result"
    }
   ],
   "source": [
    "# Sample Validasi\n",
    "sampleCoba = ee.FeatureCollection('projects/nadirafm/assets/2020_08').map(func_vjt)\n",
    "\n",
    "# Dataset Validasi\n",
    "validation = finLayer.select(bandsall).sampleRegions(collection= sampleCoba, properties= [label], scale = 12);\n",
    "\n",
    "# Training machine learning\n",
    "trainedall1 = ee.Classifier.smileCart(1000).train(trainingall, label, bandsall)\n",
    "# trainedall1 = ee.Classifier.smileRandomForest(10).train(trainingall, label, bandsall)\n",
    "# trainedall1 = ee.Classifier.smileGradientTreeBoost(10).train(trainingall, label, bandsall)\n",
    "\n",
    "validated = validation.classify(trainedall1)\n",
    "\n",
    "# Referensi: https://book.geemap.org/chapters/06_data_analysis.html#accuracy-assessment\n",
    "test_accuracy8 = validated.errorMatrix('nilai','classification')\n",
    "\n",
    "# # test_accuracy.getInfo()\n",
    "test_accuracy8.accuracy().getInfo()"
   ]
  },
  {
   "cell_type": "code",
   "execution_count": 10,
   "metadata": {},
   "outputs": [
    {
     "data": {
      "text/plain": [
       "0.7505056027281521"
      ]
     },
     "execution_count": 10,
     "metadata": {},
     "output_type": "execute_result"
    }
   ],
   "source": [
    "test_accuracy8.kappa().getInfo()"
   ]
  },
  {
   "cell_type": "markdown",
   "metadata": {},
   "source": [
    "### September"
   ]
  },
  {
   "cell_type": "code",
   "execution_count": 13,
   "metadata": {},
   "outputs": [
    {
     "data": {
      "text/plain": [
       "0.8379814077025233"
      ]
     },
     "execution_count": 13,
     "metadata": {},
     "output_type": "execute_result"
    }
   ],
   "source": [
    "# Sample Validasi\n",
    "sampleCoba = ee.FeatureCollection('projects/nadirafm/assets/2020_09').map(func_vjt)\n",
    "\n",
    "# Dataset Validasi\n",
    "validation = finLayer.select(bandsall).sampleRegions(collection= sampleCoba, properties= [label], scale = 12);\n",
    "\n",
    "# Training machine learning\n",
    "trainedall1 = ee.Classifier.smileCart(1000).train(trainingall, label, bandsall)\n",
    "# trainedall1 = ee.Classifier.smileRandomForest(10).train(trainingall, label, bandsall)\n",
    "# trainedall1 = ee.Classifier.smileGradientTreeBoost(10).train(trainingall, label, bandsall)\n",
    "\n",
    "validated = validation.classify(trainedall1)\n",
    "\n",
    "# Referensi: https://book.geemap.org/chapters/06_data_analysis.html#accuracy-assessment\n",
    "test_accuracy9 = validated.errorMatrix('nilai','classification')\n",
    "\n",
    "# # test_accuracy.getInfo()\n",
    "test_accuracy9.accuracy().getInfo()"
   ]
  },
  {
   "cell_type": "code",
   "execution_count": 14,
   "metadata": {},
   "outputs": [
    {
     "data": {
      "text/plain": [
       "0.7690367459253779"
      ]
     },
     "execution_count": 14,
     "metadata": {},
     "output_type": "execute_result"
    }
   ],
   "source": [
    "test_accuracy9.kappa().getInfo()"
   ]
  },
  {
   "cell_type": "markdown",
   "metadata": {},
   "source": [
    "### Oktober"
   ]
  },
  {
   "cell_type": "code",
   "execution_count": 17,
   "metadata": {},
   "outputs": [
    {
     "data": {
      "text/plain": [
       "0.8251438689685702"
      ]
     },
     "execution_count": 17,
     "metadata": {},
     "output_type": "execute_result"
    }
   ],
   "source": [
    "# Sample Validasi\n",
    "sampleCoba = ee.FeatureCollection('projects/nadirafm/assets/2020_10').map(func_vjt)\n",
    "\n",
    "# Dataset Validasi\n",
    "validation = finLayer.select(bandsall).sampleRegions(collection= sampleCoba, properties= [label], scale = 12);\n",
    "\n",
    "# Training machine learning\n",
    "trainedall1 = ee.Classifier.smileCart(1000).train(trainingall, label, bandsall)\n",
    "# trainedall1 = ee.Classifier.smileRandomForest(10).train(trainingall, label, bandsall)\n",
    "# trainedall1 = ee.Classifier.smileGradientTreeBoost(10).train(trainingall, label, bandsall)\n",
    "\n",
    "validated = validation.classify(trainedall1)\n",
    "\n",
    "# Referensi: https://book.geemap.org/chapters/06_data_analysis.html#accuracy-assessment\n",
    "test_accuracy10 = validated.errorMatrix('nilai','classification')\n",
    "\n",
    "# # test_accuracy.getInfo()\n",
    "test_accuracy10.accuracy().getInfo()"
   ]
  },
  {
   "cell_type": "code",
   "execution_count": 18,
   "metadata": {},
   "outputs": [
    {
     "data": {
      "text/plain": [
       "0.755103032212567"
      ]
     },
     "execution_count": 18,
     "metadata": {},
     "output_type": "execute_result"
    }
   ],
   "source": [
    "test_accuracy10.kappa().getInfo()"
   ]
  },
  {
   "cell_type": "markdown",
   "metadata": {},
   "source": [
    "### November"
   ]
  },
  {
   "cell_type": "code",
   "execution_count": 21,
   "metadata": {},
   "outputs": [
    {
     "data": {
      "text/plain": [
       "0.8413014608233732"
      ]
     },
     "execution_count": 21,
     "metadata": {},
     "output_type": "execute_result"
    }
   ],
   "source": [
    "# Sample Validasi\n",
    "sampleCoba = ee.FeatureCollection('projects/nadirafm/assets/2020_11').map(func_vjt)\n",
    "\n",
    "# Dataset Validasi\n",
    "validation = finLayer.select(bandsall).sampleRegions(collection= sampleCoba, properties= [label], scale = 12);\n",
    "\n",
    "# Training machine learning\n",
    "trainedall1 = ee.Classifier.smileCart(1000).train(trainingall, label, bandsall)\n",
    "# trainedall1 = ee.Classifier.smileRandomForest(10).train(trainingall, label, bandsall)\n",
    "# trainedall1 = ee.Classifier.smileGradientTreeBoost(10).train(trainingall, label, bandsall)\n",
    "\n",
    "validated = validation.classify(trainedall1)\n",
    "\n",
    "# Referensi: https://book.geemap.org/chapters/06_data_analysis.html#accuracy-assessment\n",
    "test_accuracy11 = validated.errorMatrix('nilai','classification')\n",
    "\n",
    "# # test_accuracy.getInfo()\n",
    "test_accuracy11.accuracy().getInfo()"
   ]
  },
  {
   "cell_type": "code",
   "execution_count": 22,
   "metadata": {},
   "outputs": [
    {
     "data": {
      "text/plain": [
       "0.7843595242098823"
      ]
     },
     "execution_count": 22,
     "metadata": {},
     "output_type": "execute_result"
    }
   ],
   "source": [
    "test_accuracy11.kappa().getInfo()"
   ]
  },
  {
   "cell_type": "markdown",
   "metadata": {},
   "source": [
    "### Desember"
   ]
  },
  {
   "cell_type": "code",
   "execution_count": 25,
   "metadata": {},
   "outputs": [
    {
     "data": {
      "text/plain": [
       "0.8370960602036299"
      ]
     },
     "execution_count": 25,
     "metadata": {},
     "output_type": "execute_result"
    }
   ],
   "source": [
    "# Sample Validasi\n",
    "sampleCoba = ee.FeatureCollection('projects/nadirafm/assets/2020_12').map(func_vjt)\n",
    "\n",
    "# Dataset Validasi\n",
    "validation = finLayer.select(bandsall).sampleRegions(collection= sampleCoba, properties= [label], scale = 12);\n",
    "\n",
    "# Training machine learning\n",
    "trainedall1 = ee.Classifier.smileCart(1000).train(trainingall, label, bandsall)\n",
    "# trainedall1 = ee.Classifier.smileRandomForest(10).train(trainingall, label, bandsall)\n",
    "# trainedall1 = ee.Classifier.smileGradientTreeBoost(10).train(trainingall, label, bandsall)\n",
    "\n",
    "validated = validation.classify(trainedall1)\n",
    "\n",
    "# Referensi: https://book.geemap.org/chapters/06_data_analysis.html#accuracy-assessment\n",
    "test_accuracy12 = validated.errorMatrix('nilai','classification')\n",
    "\n",
    "# # test_accuracy.getInfo()\n",
    "test_accuracy12.accuracy().getInfo()"
   ]
  },
  {
   "cell_type": "code",
   "execution_count": 26,
   "metadata": {},
   "outputs": [
    {
     "data": {
      "text/plain": [
       "0.7743879006572049"
      ]
     },
     "execution_count": 26,
     "metadata": {},
     "output_type": "execute_result"
    }
   ],
   "source": [
    "test_accuracy12.kappa().getInfo()"
   ]
  },
  {
   "cell_type": "code",
   "execution_count": null,
   "metadata": {},
   "outputs": [],
   "source": [
    "test_accuracy12 = validated12.errorMatrix('nilai', 'classification')"
   ]
  },
  {
   "cell_type": "code",
   "execution_count": 27,
   "metadata": {},
   "outputs": [
    {
     "ename": "NameError",
     "evalue": "name 'test_accuracy1' is not defined",
     "output_type": "error",
     "traceback": [
      "\u001b[1;31m---------------------------------------------------------------------------\u001b[0m",
      "\u001b[1;31mNameError\u001b[0m                                 Traceback (most recent call last)",
      "\u001b[1;32m~\\AppData\\Local\\Temp\\ipykernel_18464\\2083680358.py\u001b[0m in \u001b[0;36m<module>\u001b[1;34m\u001b[0m\n\u001b[1;32m----> 1\u001b[1;33m \u001b[0mtest_accuracy1\u001b[0m\u001b[1;33m.\u001b[0m\u001b[0mgetInfo\u001b[0m\u001b[1;33m(\u001b[0m\u001b[1;33m)\u001b[0m\u001b[1;33m\u001b[0m\u001b[1;33m\u001b[0m\u001b[0m\n\u001b[0m",
      "\u001b[1;31mNameError\u001b[0m: name 'test_accuracy1' is not defined"
     ]
    }
   ],
   "source": [
    "test_accuracy1.getInfo()"
   ]
  },
  {
   "cell_type": "code",
   "execution_count": null,
   "metadata": {},
   "outputs": [],
   "source": [
    "test_accuracy12.accuracy().getInfo()"
   ]
  },
  {
   "cell_type": "code",
   "execution_count": null,
   "metadata": {},
   "outputs": [],
   "source": [
    "test_accuracy1.kappa().getInfo()"
   ]
  },
  {
   "cell_type": "code",
   "execution_count": null,
   "metadata": {},
   "outputs": [],
   "source": [
    "test_accuracy2.kappa().getInfo()"
   ]
  },
  {
   "cell_type": "code",
   "execution_count": null,
   "metadata": {},
   "outputs": [],
   "source": [
    "test_accuracy3.kappa().getInfo()"
   ]
  },
  {
   "cell_type": "code",
   "execution_count": null,
   "metadata": {},
   "outputs": [],
   "source": []
  },
  {
   "cell_type": "code",
   "execution_count": null,
   "metadata": {},
   "outputs": [],
   "source": [
    "test_accuracy5.kappa().getInfo()"
   ]
  },
  {
   "cell_type": "code",
   "execution_count": null,
   "metadata": {},
   "outputs": [],
   "source": [
    "test_accuracy6.kappa().getInfo()"
   ]
  },
  {
   "cell_type": "code",
   "execution_count": null,
   "metadata": {},
   "outputs": [],
   "source": [
    "test_accuracy7.kappa().getInfo()"
   ]
  },
  {
   "cell_type": "code",
   "execution_count": null,
   "metadata": {},
   "outputs": [],
   "source": [
    "test_accuracy8.kappa().getInfo()"
   ]
  },
  {
   "cell_type": "code",
   "execution_count": null,
   "metadata": {},
   "outputs": [],
   "source": [
    "test_accuracy9.kappa().getInfo()"
   ]
  },
  {
   "cell_type": "code",
   "execution_count": null,
   "metadata": {},
   "outputs": [],
   "source": [
    "test_accuracy10.kappa().getInfo()"
   ]
  },
  {
   "cell_type": "code",
   "execution_count": null,
   "metadata": {},
   "outputs": [],
   "source": [
    "test_accuracy11.kappa().getInfo()"
   ]
  },
  {
   "cell_type": "code",
   "execution_count": null,
   "metadata": {},
   "outputs": [],
   "source": [
    "test_accuracy12.kappa().getInfo()"
   ]
  },
  {
   "cell_type": "code",
   "execution_count": null,
   "metadata": {},
   "outputs": [],
   "source": [
    "test_accuracy1.producersAccuracy().getInfo()"
   ]
  },
  {
   "cell_type": "code",
   "execution_count": null,
   "metadata": {},
   "outputs": [],
   "source": [
    "test_accuracy1.consumersAccuracy().getInfo()"
   ]
  },
  {
   "cell_type": "code",
   "execution_count": null,
   "metadata": {},
   "outputs": [],
   "source": [
    "import csv\n",
    "import os\n",
    "\n",
    "out_dir = os.getcwd()\n",
    "# training_csv = os.path.join(out_dir, 'train_accuracy.csv')\n",
    "testing_csv = os.path.join(out_dir, 'test_accuracy.csv')\n",
    "\n",
    "with open(testing_csv, \"w\", newline=\"\") as f:\n",
    "    writer = csv.writer(f)\n",
    "    writer.writerows(test_accuracy1.getInfo())"
   ]
  },
  {
   "cell_type": "markdown",
   "metadata": {},
   "source": [
    "## Display Map"
   ]
  },
  {
   "cell_type": "code",
   "execution_count": null,
   "metadata": {
    "scrolled": true
   },
   "outputs": [],
   "source": [
    "Map"
   ]
  },
  {
   "cell_type": "markdown",
   "metadata": {},
   "source": [
    "# Hitung Luas"
   ]
  },
  {
   "cell_type": "code",
   "execution_count": null,
   "metadata": {},
   "outputs": [],
   "source": [
    "import pandas as pd\n",
    "import numpy as np\n",
    "import csv\n",
    "\n",
    "#Fungsi cek keberadaan zona\n",
    "def isFoundZone(dfcount, zone):\n",
    "    for ind in dfcount.index:\n",
    "        if dfcount['Zone'][ind] == zone:\n",
    "            return True\n",
    "    return False"
   ]
  },
  {
   "cell_type": "markdown",
   "metadata": {},
   "source": [
    "## Januari 2020"
   ]
  },
  {
   "cell_type": "code",
   "execution_count": null,
   "metadata": {},
   "outputs": [],
   "source": [
    "#Baca file CSV\n",
    "csvfile01 = pd.read_csv(r'D:\\Kuliah\\KP\\#paper\\data\\2020_jupyter\\2020_01.csv')\n",
    "csvfile01.head()\n",
    "\n",
    "#Membuat dataframe untuk hasil akhir\n",
    "df01 = pd.DataFrame({'Zone': pd.Series(dtype='int'),\n",
    "                   'Stage Name': pd.Series(dtype='str'),\n",
    "                   'Count': pd.Series(dtype='int'),\n",
    "                   'Widearea': pd.Series(dtype='int')})\n",
    "\n",
    "#Deklarasi nilai awal dalam dataframe\n",
    "df01['Zone'] = [0,1,2,3,4,5,6,7]\n",
    "df01['Stage Name'] = ['Badan Air', 'Vegetasi Awal','Vegetasi Akhir', 'Generatif', 'Panen & PL', 'Sawah Bukan Padi', 'Lain-lain', 'Permukiman dan Jalan']\n",
    "df01['Count'] = [0,0,0,0,0,0,0,0]\n",
    "df01['Widearea'] = [0,0,0,0,0,0,0,0]\n",
    "\n",
    "#Menjadikan file CSV sebagai dataframe\n",
    "dfcsvfile01 = pd.DataFrame(csvfile01)\n",
    "\n",
    "#Menghitung frekuensi berdasarkan zona pada dataframe csv\n",
    "#Hasil perhitungan dalam bentuk dataframe dfcount\n",
    "dfcount01 = dfcsvfile01.classification.value_counts()\n",
    "dfcount01 = dfcount01.reset_index()\n",
    "dfcount01.columns = [\"Zone\", \"Count\"]\n",
    "\n",
    "#Memasukkan nilai count dfcount ke nilai count df\n",
    "for ind in df01.index:\n",
    "    if isFoundZone(dfcount01, ind) == True:\n",
    "        df01.loc[(df01.Zone == ind), \"Count\"] = dfcount01.loc[dfcount01['Zone'] == ind, 'Count'].item()\n",
    "    else:\n",
    "         df01.loc[(df01.Zone == ind), \"Count\"] = 0\n",
    "            \n",
    "#Membuat kolom widearea dengan mengalikan nilai tabel count pada df dengan 100 (satuan m2)\n",
    "df01['Widearea']= df01['Count']\n",
    "\n",
    "#Melihat dataframe hasil akhir\n",
    "df01"
   ]
  },
  {
   "cell_type": "markdown",
   "metadata": {},
   "source": [
    "## Februari 2020"
   ]
  },
  {
   "cell_type": "code",
   "execution_count": null,
   "metadata": {},
   "outputs": [],
   "source": [
    "#Baca file CSV\n",
    "csvfile02 = pd.read_csv(r'D:\\Kuliah\\KP\\#paper\\data\\2020_jupyter\\2020_02.csv')\n",
    "csvfile02.head()\n",
    "\n",
    "#Membuat dataframe untuk hasil akhir\n",
    "df02 = pd.DataFrame({'Zone': pd.Series(dtype='int'),\n",
    "                   'Stage Name': pd.Series(dtype='str'),\n",
    "                   'Count': pd.Series(dtype='int'),\n",
    "                   'Widearea': pd.Series(dtype='int')})\n",
    "\n",
    "#Deklarasi nilai awal dalam dataframe\n",
    "df02['Zone'] = [0,1,2,3,4,5,6,7]\n",
    "df02['Stage Name'] = ['Badan Air', 'Vegetasi Awal','Vegetasi Akhir', 'Generatif', 'Panen & PL', 'Sawah Bukan Padi', 'Lain-lain', 'Permukiman dan Jalan']\n",
    "df02['Count'] = [0,0,0,0,0,0,0,0]\n",
    "df02['Widearea'] = [0,0,0,0,0,0,0,0]\n",
    "\n",
    "#Menjadikan file CSV sebagai dataframe\n",
    "dfcsvfile02 = pd.DataFrame(csvfile02)\n",
    "\n",
    "#Menghitung frekuensi berdasarkan zona pada dataframe csv\n",
    "#Hasil perhitungan dalam bentuk dataframe dfcount\n",
    "dfcount02 = dfcsvfile02.classification.value_counts()\n",
    "dfcount02 = dfcount02.reset_index()\n",
    "dfcount02.columns = [\"Zone\", \"Count\"]\n",
    "\n",
    "#Memasukkan nilai count dfcount ke nilai count df\n",
    "for ind in df02.index:\n",
    "    if isFoundZone(dfcount02, ind) == True:\n",
    "        df02.loc[(df02.Zone == ind), \"Count\"] = dfcount02.loc[dfcount02['Zone'] == ind, 'Count'].item()\n",
    "    else:\n",
    "         df02.loc[(df02.Zone == ind), \"Count\"] = 0\n",
    "            \n",
    "#Membuat kolom widearea dengan mengalikan nilai tabel count pada df dengan 100 (satuan m2)\n",
    "df02['Widearea']= df02['Count']\n",
    "\n",
    "#Melihat dataframe hasil akhir\n",
    "df02"
   ]
  },
  {
   "cell_type": "markdown",
   "metadata": {},
   "source": [
    "## Maret 2020 - Tidak digunakan karena data tidak valid"
   ]
  },
  {
   "cell_type": "code",
   "execution_count": null,
   "metadata": {},
   "outputs": [],
   "source": [
    "#Baca file CSV\n",
    "csvfile03 = pd.read_csv(r'D:\\Kuliah\\KP\\#paper\\data\\2020_jupyter\\2020_03.csv')\n",
    "csvfile03.head()\n",
    "\n",
    "#Membuat dataframe untuk hasil akhir\n",
    "df03 = pd.DataFrame({'Zone': pd.Series(dtype='int'),\n",
    "                   'Stage Name': pd.Series(dtype='str'),\n",
    "                   'Count': pd.Series(dtype='int'),\n",
    "                   'Widearea': pd.Series(dtype='int')})\n",
    "\n",
    "#Deklarasi nilai awal dalam dataframe\n",
    "df03['Zone'] = [0,1,2,3,4,5,6,7]\n",
    "df03['Stage Name'] = ['Badan Air', 'Vegetasi Awal','Vegetasi Akhir', 'Generatif', 'Panen & PL', 'Sawah Bukan Padi', 'Lain-lain', 'Permukiman dan Jalan']\n",
    "df03['Count'] = [0,0,0,0,0,0,0,0]\n",
    "df03['Widearea'] = [0,0,0,0,0,0,0,0]\n",
    "\n",
    "#Menjadikan file CSV sebagai dataframe\n",
    "dfcsvfile03 = pd.DataFrame(csvfile03)\n",
    "\n",
    "#Menghitung frekuensi berdasarkan zona pada dataframe csv\n",
    "#Hasil perhitungan dalam bentuk dataframe dfcount\n",
    "dfcount03 = dfcsvfile03.classification.value_counts()\n",
    "dfcount03 = dfcount03.reset_index()\n",
    "dfcount03.columns = [\"Zone\", \"Count\"]\n",
    "\n",
    "#Memasukkan nilai count dfcount ke nilai count df\n",
    "for ind in df03.index:\n",
    "    if isFoundZone(dfcount03, ind) == True:\n",
    "        df03.loc[(df03.Zone == ind), \"Count\"] = dfcount03.loc[dfcount03['Zone'] == ind, 'Count'].item()\n",
    "    else:\n",
    "         df03.loc[(df03.Zone == ind), \"Count\"] = 0\n",
    "            \n",
    "#Membuat kolom widearea dengan mengalikan nilai tabel count pada df dengan 100 (satuan m2)\n",
    "df03['Widearea']= df03['Count']/100\n",
    "\n",
    "#Melihat dataframe hasil akhir\n",
    "df03"
   ]
  },
  {
   "cell_type": "markdown",
   "metadata": {},
   "source": [
    "## April 2020"
   ]
  },
  {
   "cell_type": "code",
   "execution_count": null,
   "metadata": {},
   "outputs": [],
   "source": [
    "#Baca file CSV\n",
    "csvfile04 = pd.read_csv(r'D:\\Kuliah\\KP\\#paper\\data\\2020_jupyter\\2020_04.csv')\n",
    "csvfile04.head()\n",
    "\n",
    "#Membuat dataframe untuk hasil akhir\n",
    "df04 = pd.DataFrame({'Zone': pd.Series(dtype='int'),\n",
    "                   'Stage Name': pd.Series(dtype='str'),\n",
    "                   'Count': pd.Series(dtype='int'),\n",
    "                   'Widearea': pd.Series(dtype='int')})\n",
    "\n",
    "#Deklarasi nilai awal dalam dataframe\n",
    "df04['Zone'] = [0,1,2,3,4,5,6,7]\n",
    "df04['Stage Name'] = ['Badan Air', 'Vegetasi Awal','Vegetasi Akhir', 'Generatif', 'Panen & PL', 'Sawah Bukan Padi', 'Lain-lain', 'Permukiman dan Jalan']\n",
    "df04['Count'] = [0,0,0,0,0,0,0,0]\n",
    "df04['Widearea'] = [0,0,0,0,0,0,0,0]\n",
    "\n",
    "#Menjadikan file CSV sebagai dataframe\n",
    "dfcsvfile04 = pd.DataFrame(csvfile04)\n",
    "\n",
    "#Menghitung frekuensi berdasarkan zona pada dataframe csv\n",
    "#Hasil perhitungan dalam bentuk dataframe dfcount\n",
    "dfcount04 = dfcsvfile04.classification.value_counts()\n",
    "dfcount04 = dfcount04.reset_index()\n",
    "dfcount04.columns = [\"Zone\", \"Count\"]\n",
    "\n",
    "#Memasukkan nilai count dfcount ke nilai count df\n",
    "for ind in df04.index:\n",
    "    if isFoundZone(dfcount04, ind) == True:\n",
    "        df04.loc[(df04.Zone == ind), \"Count\"] = dfcount04.loc[dfcount04['Zone'] == ind, 'Count'].item()\n",
    "    else:\n",
    "         df04.loc[(df04.Zone == ind), \"Count\"] = 0\n",
    "            \n",
    "#Membuat kolom widearea dengan mengalikan nilai tabel count pada df dengan 100 (satuan m2)\n",
    "df04['Widearea']= df04['Count']\n",
    "\n",
    "#Melihat dataframe hasil akhir\n",
    "df04"
   ]
  },
  {
   "cell_type": "markdown",
   "metadata": {},
   "source": [
    "## Mei 2020"
   ]
  },
  {
   "cell_type": "code",
   "execution_count": null,
   "metadata": {},
   "outputs": [],
   "source": [
    "#Baca file CSV\n",
    "csvfile05 = pd.read_csv(r'D:\\Kuliah\\KP\\#paper\\data\\2020_jupyter\\2020_05.csv')\n",
    "csvfile05.head()\n",
    "\n",
    "#Membuat dataframe untuk hasil akhir\n",
    "df05 = pd.DataFrame({'Zone': pd.Series(dtype='int'),\n",
    "                   'Stage Name': pd.Series(dtype='str'),\n",
    "                   'Count': pd.Series(dtype='int'),\n",
    "                   'Widearea': pd.Series(dtype='int')})\n",
    "\n",
    "#Deklarasi nilai awal dalam dataframe\n",
    "df05['Zone'] = [0,1,2,3,4,5,6,7]\n",
    "df05['Stage Name'] = ['Badan Air', 'Vegetasi Awal','Vegetasi Akhir', 'Generatif', 'Panen & PL', 'Sawah Bukan Padi', 'Lain-lain', 'Permukiman dan Jalan']\n",
    "df05['Count'] = [0,0,0,0,0,0,0,0]\n",
    "df05['Widearea'] = [0,0,0,0,0,0,0,0]\n",
    "\n",
    "#Menjadikan file CSV sebagai dataframe\n",
    "dfcsvfile05 = pd.DataFrame(csvfile05)\n",
    "\n",
    "#Menghitung frekuensi berdasarkan zona pada dataframe csv\n",
    "#Hasil perhitungan dalam bentuk dataframe dfcount\n",
    "dfcount05 = dfcsvfile05.classification.value_counts()\n",
    "dfcount05 = dfcount05.reset_index()\n",
    "dfcount05.columns = [\"Zone\", \"Count\"]\n",
    "\n",
    "#Memasukkan nilai count dfcount ke nilai count df\n",
    "for ind in df05.index:\n",
    "    if isFoundZone(dfcount05, ind) == True:\n",
    "        df05.loc[(df05.Zone == ind), \"Count\"] = dfcount05.loc[dfcount05['Zone'] == ind, 'Count'].item()\n",
    "    else:\n",
    "         df05.loc[(df05.Zone == ind), \"Count\"] = 0\n",
    "            \n",
    "#Membuat kolom widearea dengan mengalikan nilai tabel count pada df dengan 100 (satuan m2)\n",
    "df05['Widearea']= df05['Count']\n",
    "\n",
    "#Melihat dataframe hasil akhir\n",
    "df05"
   ]
  },
  {
   "cell_type": "markdown",
   "metadata": {},
   "source": [
    "## Juni 2020"
   ]
  },
  {
   "cell_type": "code",
   "execution_count": null,
   "metadata": {},
   "outputs": [],
   "source": [
    "#Baca file CSV\n",
    "csvfile06 = pd.read_csv(r'D:\\Kuliah\\KP\\#paper\\data\\2020_jupyter\\2020_06.csv')\n",
    "csvfile06.head()\n",
    "\n",
    "#Membuat dataframe untuk hasil akhir\n",
    "df06 = pd.DataFrame({'Zone': pd.Series(dtype='int'),\n",
    "                   'Stage Name': pd.Series(dtype='str'),\n",
    "                   'Count': pd.Series(dtype='int'),\n",
    "                   'Widearea': pd.Series(dtype='int')})\n",
    "\n",
    "#Deklarasi nilai awal dalam dataframe\n",
    "df06['Zone'] = [0,1,2,3,4,5,6,7]\n",
    "df06['Stage Name'] = ['Badan Air', 'Vegetasi Awal','Vegetasi Akhir', 'Generatif', 'Panen & PL', 'Sawah Bukan Padi', 'Lain-lain', 'Permukiman dan Jalan']\n",
    "df06['Count'] = [0,0,0,0,0,0,0,0]\n",
    "df06['Widearea'] = [0,0,0,0,0,0,0,0]\n",
    "\n",
    "#Menjadikan file CSV sebagai dataframe\n",
    "dfcsvfile06 = pd.DataFrame(csvfile06)\n",
    "\n",
    "#Menghitung frekuensi berdasarkan zona pada dataframe csv\n",
    "#Hasil perhitungan dalam bentuk dataframe dfcount\n",
    "dfcount06 = dfcsvfile06.classification.value_counts()\n",
    "dfcount06 = dfcount06.reset_index()\n",
    "dfcount06.columns = [\"Zone\", \"Count\"]\n",
    "\n",
    "#Memasukkan nilai count dfcount ke nilai count df\n",
    "for ind in df06.index:\n",
    "    if isFoundZone(dfcount06, ind) == True:\n",
    "        df06.loc[(df06.Zone == ind), \"Count\"] = dfcount06.loc[dfcount06['Zone'] == ind, 'Count'].item()\n",
    "    else:\n",
    "         df06.loc[(df06.Zone == ind), \"Count\"] = 0\n",
    "            \n",
    "#Membuat kolom widearea dengan mengalikan nilai tabel count pada df dengan 100 (satuan m2)\n",
    "df06['Widearea']= df06['Count']\n",
    "\n",
    "#Melihat dataframe hasil akhir\n",
    "df06"
   ]
  },
  {
   "cell_type": "markdown",
   "metadata": {},
   "source": [
    "## Juli 2020"
   ]
  },
  {
   "cell_type": "code",
   "execution_count": null,
   "metadata": {},
   "outputs": [],
   "source": [
    "#Baca file CSV\n",
    "csvfile07 = pd.read_csv(r'D:\\Kuliah\\KP\\#paper\\data\\2020_jupyter\\2020_07.csv')\n",
    "csvfile07.head()\n",
    "\n",
    "#Membuat dataframe untuk hasil akhir\n",
    "df07 = pd.DataFrame({'Zone': pd.Series(dtype='int'),\n",
    "                   'Stage Name': pd.Series(dtype='str'),\n",
    "                   'Count': pd.Series(dtype='int'),\n",
    "                   'Widearea': pd.Series(dtype='int')})\n",
    "\n",
    "#Deklarasi nilai awal dalam dataframe\n",
    "df07['Zone'] = [0,1,2,3,4,5,6,7]\n",
    "df07['Stage Name'] = ['Badan Air', 'Vegetasi Awal','Vegetasi Akhir', 'Generatif', 'Panen & PL', 'Sawah Bukan Padi', 'Lain-lain', 'Permukiman dan Jalan']\n",
    "df07['Count'] = [0,0,0,0,0,0,0,0]\n",
    "df07['Widearea'] = [0,0,0,0,0,0,0,0]\n",
    "\n",
    "#Menjadikan file CSV sebagai dataframe\n",
    "dfcsvfile07 = pd.DataFrame(csvfile07)\n",
    "\n",
    "#Menghitung frekuensi berdasarkan zona pada dataframe csv\n",
    "#Hasil perhitungan dalam bentuk dataframe dfcount\n",
    "dfcount07 = dfcsvfile07.classification.value_counts()\n",
    "dfcount07 = dfcount07.reset_index()\n",
    "dfcount07.columns = [\"Zone\", \"Count\"]\n",
    "\n",
    "#Memasukkan nilai count dfcount ke nilai count df\n",
    "for ind in df07.index:\n",
    "    if isFoundZone(dfcount07, ind) == True:\n",
    "        df07.loc[(df07.Zone == ind), \"Count\"] = dfcount07.loc[dfcount07['Zone'] == ind, 'Count'].item()\n",
    "    else:\n",
    "         df07.loc[(df07.Zone == ind), \"Count\"] = 0\n",
    "            \n",
    "#Membuat kolom widearea dengan mengalikan nilai tabel count pada df dengan 100 (satuan m2)\n",
    "df07['Widearea']= df07['Count']\n",
    "\n",
    "#Melihat dataframe hasil akhir\n",
    "df07"
   ]
  },
  {
   "cell_type": "markdown",
   "metadata": {},
   "source": [
    "## Agustus 2020"
   ]
  },
  {
   "cell_type": "code",
   "execution_count": null,
   "metadata": {},
   "outputs": [],
   "source": [
    "#Baca file CSV\n",
    "csvfile08 = pd.read_csv(r'D:\\Kuliah\\KP\\#paper\\data\\2020_jupyter\\2020_08.csv')\n",
    "csvfile08.head()\n",
    "\n",
    "#Membuat dataframe untuk hasil akhir\n",
    "df08 = pd.DataFrame({'Zone': pd.Series(dtype='int'),\n",
    "                   'Stage Name': pd.Series(dtype='str'),\n",
    "                   'Count': pd.Series(dtype='int'),\n",
    "                   'Widearea': pd.Series(dtype='int')})\n",
    "\n",
    "#Deklarasi nilai awal dalam dataframe\n",
    "df08['Zone'] = [0,1,2,3,4,5,6,7]\n",
    "df08['Stage Name'] = ['Badan Air', 'Vegetasi Awal','Vegetasi Akhir', 'Generatif', 'Panen & PL', 'Sawah Bukan Padi', 'Lain-lain', 'Permukiman dan Jalan']\n",
    "df08['Count'] = [0,0,0,0,0,0,0,0]\n",
    "df08['Widearea'] = [0,0,0,0,0,0,0,0]\n",
    "\n",
    "#Menjadikan file CSV sebagai dataframe\n",
    "dfcsvfile08 = pd.DataFrame(csvfile08)\n",
    "\n",
    "#Menghitung frekuensi berdasarkan zona pada dataframe csv\n",
    "#Hasil perhitungan dalam bentuk dataframe dfcount\n",
    "dfcount08 = dfcsvfile08.classification.value_counts()\n",
    "dfcount08 = dfcount08.reset_index()\n",
    "dfcount08.columns = [\"Zone\", \"Count\"]\n",
    "\n",
    "#Memasukkan nilai count dfcount ke nilai count df\n",
    "for ind in df08.index:\n",
    "    if isFoundZone(dfcount08, ind) == True:\n",
    "        df08.loc[(df08.Zone == ind), \"Count\"] = dfcount08.loc[dfcount08['Zone'] == ind, 'Count'].item()\n",
    "    else:\n",
    "         df08.loc[(df08.Zone == ind), \"Count\"] = 0\n",
    "            \n",
    "#Membuat kolom widearea dengan mengalikan nilai tabel count pada df dengan 100 (satuan m2)\n",
    "df08['Widearea']= df08['Count']\n",
    "\n",
    "#Melihat dataframe hasil akhir\n",
    "df08"
   ]
  },
  {
   "cell_type": "markdown",
   "metadata": {},
   "source": [
    "## September 2020"
   ]
  },
  {
   "cell_type": "code",
   "execution_count": null,
   "metadata": {},
   "outputs": [],
   "source": [
    "#Baca file CSV\n",
    "csvfile09 = pd.read_csv(r'D:\\Kuliah\\KP\\#paper\\data\\2020_jupyter\\2020_09.csv')\n",
    "csvfile09.head()\n",
    "\n",
    "#Membuat dataframe untuk hasil akhir\n",
    "df09 = pd.DataFrame({'Zone': pd.Series(dtype='int'),\n",
    "                   'Stage Name': pd.Series(dtype='str'),\n",
    "                   'Count': pd.Series(dtype='int'),\n",
    "                   'Widearea': pd.Series(dtype='int')})\n",
    "\n",
    "#Deklarasi nilai awal dalam dataframe\n",
    "df09['Zone'] = [0,1,2,3,4,5,6,7]\n",
    "df09['Stage Name'] = ['Badan Air', 'Vegetasi Awal','Vegetasi Akhir', 'Generatif', 'Panen & PL', 'Sawah Bukan Padi', 'Lain-lain', 'Permukiman dan Jalan']\n",
    "df09['Count'] = [0,0,0,0,0,0,0,0]\n",
    "df09['Widearea'] = [0,0,0,0,0,0,0,0]\n",
    "\n",
    "#Menjadikan file CSV sebagai dataframe\n",
    "dfcsvfile09 = pd.DataFrame(csvfile09)\n",
    "\n",
    "#Menghitung frekuensi berdasarkan zona pada dataframe csv\n",
    "#Hasil perhitungan dalam bentuk dataframe dfcount\n",
    "dfcount09 = dfcsvfile09.classification.value_counts()\n",
    "dfcount09 = dfcount09.reset_index()\n",
    "dfcount09.columns = [\"Zone\", \"Count\"]\n",
    "\n",
    "#Memasukkan nilai count dfcount ke nilai count df\n",
    "for ind in df09.index:\n",
    "    if isFoundZone(dfcount09, ind) == True:\n",
    "        df09.loc[(df09.Zone == ind), \"Count\"] = dfcount09.loc[dfcount09['Zone'] == ind, 'Count'].item()\n",
    "    else:\n",
    "         df09.loc[(df09.Zone == ind), \"Count\"] = 0\n",
    "            \n",
    "#Membuat kolom widearea dengan mengalikan nilai tabel count pada df dengan 100 (satuan m2)\n",
    "df09['Widearea']= df09['Count']\n",
    "\n",
    "#Melihat dataframe hasil akhir\n",
    "df09"
   ]
  },
  {
   "cell_type": "markdown",
   "metadata": {},
   "source": [
    "## Oktober 2020"
   ]
  },
  {
   "cell_type": "code",
   "execution_count": null,
   "metadata": {},
   "outputs": [],
   "source": [
    "#Baca file CSV\n",
    "csvfile10 = pd.read_csv(r'D:\\Kuliah\\KP\\#paper\\data\\2020_jupyter\\2020_10.csv')\n",
    "csvfile10.head()\n",
    "\n",
    "#Membuat dataframe untuk hasil akhir\n",
    "df10 = pd.DataFrame({'Zone': pd.Series(dtype='int'),\n",
    "                   'Stage Name': pd.Series(dtype='str'),\n",
    "                   'Count': pd.Series(dtype='int'),\n",
    "                   'Widearea': pd.Series(dtype='int')})\n",
    "\n",
    "#Deklarasi nilai awal dalam dataframe\n",
    "df10['Zone'] = [0,1,2,3,4,5,6,7]\n",
    "df10['Stage Name'] = ['Badan Air', 'Vegetasi Awal','Vegetasi Akhir', 'Generatif', 'Panen & PL', 'Sawah Bukan Padi', 'Lain-lain', 'Permukiman dan Jalan']\n",
    "df10['Count'] = [0,0,0,0,0,0,0,0]\n",
    "df10['Widearea'] = [0,0,0,0,0,0,0,0]\n",
    "\n",
    "#Menjadikan file CSV sebagai dataframe\n",
    "dfcsvfile10 = pd.DataFrame(csvfile10)\n",
    "\n",
    "#Menghitung frekuensi berdasarkan zona pada dataframe csv\n",
    "#Hasil perhitungan dalam bentuk dataframe dfcount\n",
    "dfcount10 = dfcsvfile10.classification.value_counts()\n",
    "dfcount10 = dfcount10.reset_index()\n",
    "dfcount10.columns = [\"Zone\", \"Count\"]\n",
    "\n",
    "#Memasukkan nilai count dfcount ke nilai count df\n",
    "for ind in df10.index:\n",
    "    if isFoundZone(dfcount10, ind) == True:\n",
    "        df10.loc[(df10.Zone == ind), \"Count\"] = dfcount10.loc[dfcount10['Zone'] == ind, 'Count'].item()\n",
    "    else:\n",
    "         df10.loc[(df10.Zone == ind), \"Count\"] = 0\n",
    "            \n",
    "#Membuat kolom widearea dengan mengalikan nilai tabel count pada df dengan 100 (satuan m2)\n",
    "df10['Widearea']= df10['Count']\n",
    "\n",
    "#Melihat dataframe hasil akhir\n",
    "df10"
   ]
  },
  {
   "cell_type": "markdown",
   "metadata": {},
   "source": [
    "## November 2020"
   ]
  },
  {
   "cell_type": "code",
   "execution_count": null,
   "metadata": {},
   "outputs": [],
   "source": [
    "#Baca file CSV\n",
    "csvfile11 = pd.read_csv(r'D:\\Kuliah\\KP\\#paper\\data\\2020_jupyter\\2020_11.csv')\n",
    "csvfile11.head()\n",
    "\n",
    "#Membuat dataframe untuk hasil akhir\n",
    "df11 = pd.DataFrame({'Zone': pd.Series(dtype='int'),\n",
    "                   'Stage Name': pd.Series(dtype='str'),\n",
    "                   'Count': pd.Series(dtype='int'),\n",
    "                   'Widearea': pd.Series(dtype='int')})\n",
    "\n",
    "#Deklarasi nilai awal dalam dataframe\n",
    "df11['Zone'] = [0,1,2,3,4,5,6,7]\n",
    "df11['Stage Name'] = ['Badan Air', 'Vegetasi Awal','Vegetasi Akhir', 'Generatif', 'Panen & PL', 'Sawah Bukan Padi', 'Lain-lain', 'Permukiman dan Jalan']\n",
    "df11['Count'] = [0,0,0,0,0,0,0,0]\n",
    "df11['Widearea'] = [0,0,0,0,0,0,0,0]\n",
    "\n",
    "#Menjadikan file CSV sebagai dataframe\n",
    "dfcsvfile11 = pd.DataFrame(csvfile11)\n",
    "\n",
    "#Menghitung frekuensi berdasarkan zona pada dataframe csv\n",
    "#Hasil perhitungan dalam bentuk dataframe dfcount\n",
    "dfcount11 = dfcsvfile11.classification.value_counts()\n",
    "dfcount11 = dfcount11.reset_index()\n",
    "dfcount11.columns = [\"Zone\", \"Count\"]\n",
    "\n",
    "#Memasukkan nilai count dfcount ke nilai count df\n",
    "for ind in df11.index:\n",
    "    if isFoundZone(dfcount11, ind) == True:\n",
    "        df11.loc[(df11.Zone == ind), \"Count\"] = dfcount11.loc[dfcount11['Zone'] == ind, 'Count'].item()\n",
    "    else:\n",
    "         df11.loc[(df11.Zone == ind), \"Count\"] = 0\n",
    "            \n",
    "#Membuat kolom widearea dengan mengalikan nilai tabel count pada df dengan 100 (satuan m2)\n",
    "df11['Widearea']= df11['Count']\n",
    "\n",
    "#Melihat dataframe hasil akhir\n",
    "df11"
   ]
  },
  {
   "cell_type": "markdown",
   "metadata": {},
   "source": [
    "## Desember 2020"
   ]
  },
  {
   "cell_type": "code",
   "execution_count": null,
   "metadata": {},
   "outputs": [],
   "source": [
    "#Baca file CSV\n",
    "csvfile12 = pd.read_csv(r'D:\\Kuliah\\KP\\#paper\\data\\2020_jupyter\\2020_12.csv')\n",
    "csvfile12.head()\n",
    "\n",
    "#Membuat dataframe untuk hasil akhir\n",
    "df12 = pd.DataFrame({'Zone': pd.Series(dtype='int'),\n",
    "                   'Stage Name': pd.Series(dtype='str'),\n",
    "                   'Count': pd.Series(dtype='int'),\n",
    "                   'Widearea': pd.Series(dtype='int')})\n",
    "\n",
    "#Deklarasi nilai awal dalam dataframe\n",
    "df12['Zone'] = [0,1,2,3,4,5,6,7]\n",
    "df12['Stage Name'] = ['Badan Air', 'Vegetasi Awal','Vegetasi Akhir', 'Generatif', 'Panen & PL', 'Sawah Bukan Padi', 'Lain-lain', 'Permukiman dan Jalan']\n",
    "df12['Count'] = [0,0,0,0,0,0,0,0]\n",
    "df12['Widearea'] = [0,0,0,0,0,0,0,0]\n",
    "\n",
    "#Menjadikan file CSV sebagai dataframe\n",
    "dfcsvfile12 = pd.DataFrame(csvfile12)\n",
    "\n",
    "#Menghitung frekuensi berdasarkan zona pada dataframe csv\n",
    "#Hasil perhitungan dalam bentuk dataframe dfcount\n",
    "dfcount12 = dfcsvfile12.classification.value_counts()\n",
    "dfcount12 = dfcount12.reset_index()\n",
    "dfcount12.columns = [\"Zone\", \"Count\"]\n",
    "\n",
    "#Memasukkan nilai count dfcount ke nilai count df\n",
    "for ind in df12.index:\n",
    "    if isFoundZone(dfcount12, ind) == True:\n",
    "        df12.loc[(df12.Zone == ind), \"Count\"] = dfcount12.loc[dfcount12['Zone'] == ind, 'Count'].item()\n",
    "    else:\n",
    "         df12.loc[(df12.Zone == ind), \"Count\"] = 0\n",
    "            \n",
    "#Membuat kolom widearea dengan mengalikan nilai tabel count pada df dengan 100 (satuan m2)\n",
    "df12['Widearea']= df12['Count']\n",
    "\n",
    "#Melihat dataframe hasil akhir\n",
    "df12"
   ]
  },
  {
   "cell_type": "markdown",
   "metadata": {},
   "source": [
    "# Visualisasi"
   ]
  },
  {
   "cell_type": "code",
   "execution_count": null,
   "metadata": {},
   "outputs": [],
   "source": [
    "import matplotlib.pyplot as plt"
   ]
  },
  {
   "cell_type": "code",
   "execution_count": null,
   "metadata": {},
   "outputs": [],
   "source": [
    "#Membuat dataframe gabungan Jan-Jun\n",
    "dfgabungan = pd.DataFrame({'Bulan': pd.Series(dtype='str'),\n",
    "                   'Badan Air': pd.Series(dtype='int'),\n",
    "                   'Vegetasi Awal': pd.Series(dtype='int'),\n",
    "                   'Vegetasi Akhir': pd.Series(dtype='int'),\n",
    "                   'Generatif': pd.Series(dtype='int'),\n",
    "                   'Panen & PL': pd.Series(dtype='int'),\n",
    "                   'Sawah Bukan Padi': pd.Series(dtype='int'),\n",
    "                   'Lain-lain': pd.Series(dtype='int'),\n",
    "                   'Permukiman dan Jalan': pd.Series(dtype='int')})\n",
    "\n",
    "#Deklarasi nilai awal dalam dataframe\n",
    "dfgabungan['Bulan'] = [\"Januari\",\"Februari\", \"Maret\", \"April\", \"Mei\", \"Juni\",\"Juli\",\"Agustus\",\"September\",\"Oktober\",\"November\",\"Desember\"]\n",
    "dfgabungan ['Badan Air'] = [df01.loc[0]['Widearea'], \n",
    "                            df02.loc[0]['Widearea'], \n",
    "                            df03.loc[0]['Widearea'], \n",
    "                            df04.loc[0]['Widearea'], \n",
    "                            df05.loc[0]['Widearea'], \n",
    "                            df06.loc[0]['Widearea'],\n",
    "                            df07.loc[0]['Widearea'], \n",
    "                            df08.loc[0]['Widearea'], \n",
    "                            df09.loc[0]['Widearea'], \n",
    "                            df10.loc[0]['Widearea'], \n",
    "                            df11.loc[0]['Widearea'], \n",
    "                            df12.loc[0]['Widearea']] \n",
    "dfgabungan ['Vegetasi Awal'] = [df01.loc[1]['Widearea'], \n",
    "                            df02.loc[1]['Widearea'], \n",
    "                            df03.loc[1]['Widearea'], \n",
    "                            df04.loc[1]['Widearea'], \n",
    "                            df05.loc[1]['Widearea'], \n",
    "                            df06.loc[1]['Widearea'],\n",
    "                            df07.loc[1]['Widearea'], \n",
    "                            df08.loc[1]['Widearea'], \n",
    "                            df09.loc[1]['Widearea'], \n",
    "                            df10.loc[1]['Widearea'], \n",
    "                            df11.loc[1]['Widearea'], \n",
    "                            df12.loc[1]['Widearea']]  \n",
    "dfgabungan ['Vegetasi Akhir'] = [df01.loc[2]['Widearea'], \n",
    "                            df02.loc[2]['Widearea'], \n",
    "                            df03.loc[2]['Widearea'], \n",
    "                            df04.loc[2]['Widearea'], \n",
    "                            df05.loc[2]['Widearea'], \n",
    "                            df06.loc[2]['Widearea'],\n",
    "                            df07.loc[2]['Widearea'], \n",
    "                            df08.loc[2]['Widearea'], \n",
    "                            df09.loc[2]['Widearea'], \n",
    "                            df10.loc[2]['Widearea'], \n",
    "                            df11.loc[2]['Widearea'], \n",
    "                            df12.loc[2]['Widearea']]  \n",
    "dfgabungan ['Generatif'] = [df01.loc[3]['Widearea'], \n",
    "                            df02.loc[3]['Widearea'], \n",
    "                            df03.loc[3]['Widearea'], \n",
    "                            df04.loc[3]['Widearea'], \n",
    "                            df05.loc[3]['Widearea'], \n",
    "                            df06.loc[3]['Widearea'],\n",
    "                            df07.loc[3]['Widearea'], \n",
    "                            df08.loc[3]['Widearea'], \n",
    "                            df09.loc[3]['Widearea'], \n",
    "                            df10.loc[3]['Widearea'], \n",
    "                            df11.loc[3]['Widearea'], \n",
    "                            df12.loc[3]['Widearea']]  \n",
    "dfgabungan ['Panen & PL'] = [df01.loc[4]['Widearea'], \n",
    "                            df02.loc[4]['Widearea'], \n",
    "                            df03.loc[4]['Widearea'], \n",
    "                            df04.loc[4]['Widearea'], \n",
    "                            df05.loc[4]['Widearea'], \n",
    "                            df06.loc[4]['Widearea'],\n",
    "                            df07.loc[4]['Widearea'], \n",
    "                            df08.loc[4]['Widearea'], \n",
    "                            df09.loc[4]['Widearea'], \n",
    "                            df10.loc[4]['Widearea'], \n",
    "                            df11.loc[4]['Widearea'], \n",
    "                            df12.loc[4]['Widearea']]  \n",
    "dfgabungan ['Sawah Bukan Padi'] = [df01.loc[5]['Widearea'], \n",
    "                            df02.loc[5]['Widearea'], \n",
    "                            df03.loc[5]['Widearea'], \n",
    "                            df04.loc[5]['Widearea'], \n",
    "                            df05.loc[5]['Widearea'], \n",
    "                            df06.loc[5]['Widearea'],\n",
    "                            df07.loc[5]['Widearea'], \n",
    "                            df08.loc[5]['Widearea'], \n",
    "                            df09.loc[5]['Widearea'], \n",
    "                            df10.loc[5]['Widearea'], \n",
    "                            df11.loc[5]['Widearea'], \n",
    "                            df12.loc[5]['Widearea']]  \n",
    "dfgabungan ['Lain-lain'] = [df01.loc[6]['Widearea'], \n",
    "                            df02.loc[6]['Widearea'], \n",
    "                            df03.loc[6]['Widearea'], \n",
    "                            df04.loc[6]['Widearea'], \n",
    "                            df05.loc[6]['Widearea'], \n",
    "                            df06.loc[6]['Widearea'],\n",
    "                            df07.loc[6]['Widearea'], \n",
    "                            df08.loc[6]['Widearea'], \n",
    "                            df09.loc[6]['Widearea'], \n",
    "                            df10.loc[6]['Widearea'], \n",
    "                            df11.loc[6]['Widearea'], \n",
    "                            df12.loc[6]['Widearea']]  \n",
    "dfgabungan ['Permukiman dan Jalan'] = [df01.loc[7]['Widearea'], \n",
    "                            df02.loc[7]['Widearea'], \n",
    "                            df03.loc[7]['Widearea'], \n",
    "                            df04.loc[7]['Widearea'], \n",
    "                            df05.loc[7]['Widearea'], \n",
    "                            df06.loc[7]['Widearea'],\n",
    "                            df07.loc[7]['Widearea'], \n",
    "                            df08.loc[7]['Widearea'], \n",
    "                            df09.loc[7]['Widearea'], \n",
    "                            df10.loc[7]['Widearea'], \n",
    "                            df11.loc[7]['Widearea'], \n",
    "                            df12.loc[7]['Widearea']] \n",
    "\n",
    "dfgabungan = dfgabungan.set_index('Bulan')\n",
    "dfgabungan\n",
    "\n",
    "#dibandingkan, diliat yg mayoritas itu diatas 50%, dibandingkan dengan data 1 bulan selain pemukiman, badan air\n",
    "# januari-mei-september, februari-juni-oktober, maret-juli-november, april-agustus-desember."
   ]
  },
  {
   "cell_type": "code",
   "execution_count": null,
   "metadata": {},
   "outputs": [],
   "source": [
    "dfgabungan.plot(kind=\"bar\",figsize=(30,18),width=0.9,fontsize=25,legend=True)\n",
    "plt.title(\"Klasifikasi Data Karawang Jan-Des 2020\", fontsize=25)\n",
    "plt.xlabel(\"Bulan\", fontsize=25)\n",
    "plt.ylabel(\"Luas Area\", fontsize =25) #Belum dikali 100\n",
    "plt.legend(fontsize=20)\n",
    "plt.grid()"
   ]
  },
  {
   "cell_type": "code",
   "execution_count": null,
   "metadata": {},
   "outputs": [],
   "source": [
    "#Membuat dataframe gabungan Jan-Jun\n",
    "dftotal = pd.DataFrame({'Total': pd.Series(dtype='int')})\n",
    "\n",
    "#Deklarasi nilai awal dalam dataframe\n",
    "dftotal['Bulan'] = [\"Januari\",\"Februari\", \"Maret\", \"April\", \"Mei\", \"Juni\",\"Juli\",\"Agustus\",\"September\",\"Oktober\",\"November\",\"Desember\"]\n",
    "dftotal ['Total'] = [df01.loc[0]['Widearea']+ df01.loc[1]['Widearea']+ df01.loc[2]['Widearea']+ df01.loc[3]['Widearea']+ df01.loc[4]['Widearea']+ df01.loc[5]['Widearea']+ df01.loc[6]['Widearea']+ df01.loc[7]['Widearea'], \n",
    "                         df02.loc[0]['Widearea']+ df02.loc[1]['Widearea']+ df02.loc[2]['Widearea']+ df02.loc[3]['Widearea']+ df02.loc[4]['Widearea']+ df02.loc[5]['Widearea']+ df02.loc[6]['Widearea']+ df02.loc[7]['Widearea'],\n",
    "                         df03.loc[0]['Widearea']+ df03.loc[1]['Widearea']+ df03.loc[2]['Widearea']+ df03.loc[3]['Widearea']+ df03.loc[4]['Widearea']+ df03.loc[5]['Widearea']+ df03.loc[6]['Widearea']+ df03.loc[7]['Widearea'], \n",
    "                         df04.loc[0]['Widearea']+ df04.loc[1]['Widearea']+ df04.loc[2]['Widearea']+ df04.loc[3]['Widearea']+ df04.loc[4]['Widearea']+ df04.loc[5]['Widearea']+ df04.loc[6]['Widearea']+ df04.loc[7]['Widearea'], \n",
    "                         df05.loc[0]['Widearea']+ df05.loc[1]['Widearea']+ df05.loc[2]['Widearea']+ df05.loc[3]['Widearea']+ df05.loc[4]['Widearea']+ df05.loc[5]['Widearea']+ df05.loc[6]['Widearea']+ df05.loc[7]['Widearea'], \n",
    "                         df06.loc[0]['Widearea']+ df06.loc[1]['Widearea']+ df06.loc[2]['Widearea']+ df06.loc[3]['Widearea']+ df06.loc[4]['Widearea']+ df06.loc[5]['Widearea']+ df06.loc[6]['Widearea']+ df06.loc[7]['Widearea'],  \n",
    "                         df07.loc[0]['Widearea']+ df07.loc[1]['Widearea']+ df07.loc[2]['Widearea']+ df07.loc[3]['Widearea']+ df07.loc[4]['Widearea']+ df07.loc[5]['Widearea']+ df07.loc[6]['Widearea']+ df07.loc[7]['Widearea'],  \n",
    "                         df08.loc[0]['Widearea']+ df08.loc[1]['Widearea']+ df08.loc[2]['Widearea']+ df08.loc[3]['Widearea']+ df08.loc[4]['Widearea']+ df08.loc[5]['Widearea']+ df08.loc[6]['Widearea']+ df08.loc[7]['Widearea'], \n",
    "                         df09.loc[0]['Widearea']+ df09.loc[1]['Widearea']+ df09.loc[2]['Widearea']+ df09.loc[3]['Widearea']+ df09.loc[4]['Widearea']+ df09.loc[5]['Widearea']+ df09.loc[6]['Widearea']+ df09.loc[7]['Widearea'], \n",
    "                         df10.loc[0]['Widearea']+ df10.loc[1]['Widearea']+ df10.loc[2]['Widearea']+ df10.loc[3]['Widearea']+ df10.loc[4]['Widearea']+ df10.loc[5]['Widearea']+ df10.loc[6]['Widearea']+ df10.loc[7]['Widearea'], \n",
    "                         df11.loc[0]['Widearea']+ df11.loc[1]['Widearea']+ df11.loc[2]['Widearea']+ df11.loc[3]['Widearea']+ df11.loc[4]['Widearea']+ df11.loc[5]['Widearea']+ df11.loc[6]['Widearea']+ df11.loc[7]['Widearea'], \n",
    "                         df12.loc[0]['Widearea']+ df12.loc[1]['Widearea']+ df12.loc[2]['Widearea']+ df12.loc[3]['Widearea']+ df12.loc[4]['Widearea']+ df12.loc[5]['Widearea']+ df12.loc[6]['Widearea']+ df12.loc[7]['Widearea']] \n",
    "dftotal = dftotal.set_index('Bulan')\n",
    "dftotal"
   ]
  },
  {
   "cell_type": "markdown",
   "metadata": {},
   "source": [
    "## Hitung Rasio Perbedaan "
   ]
  },
  {
   "cell_type": "code",
   "execution_count": null,
   "metadata": {},
   "outputs": [],
   "source": [
    "# Hitung rasio untuk cek dominasi\n",
    "def h(bulan,loc):\n",
    "    #Data count vegetasi awal maret 2020\n",
    "    if (bulan == 'Januari'):\n",
    "        df = df01\n",
    "    if (bulan =='Februari'):\n",
    "        df = df02\n",
    "    if (bulan =='Maret'):\n",
    "        df = df03\n",
    "    if (bulan =='April'):\n",
    "        df = df04\n",
    "    if (bulan =='Mei'):\n",
    "        df = df05\n",
    "    if (bulan =='Juni'):\n",
    "        df = df06\n",
    "    if (bulan =='Juli'):\n",
    "        df = df07\n",
    "    if (bulan =='Agustus'):\n",
    "        df = df08\n",
    "    if (bulan =='September'):\n",
    "        df = df09\n",
    "    if (bulan =='Oktober'):\n",
    "        df = df10\n",
    "    if (bulan =='November'):\n",
    "        df = df11\n",
    "    if (bulan =='Desember'):\n",
    "        df = df12   \n",
    "    a = df.loc[loc]['Count']\n",
    "    #Data count total (tanpa badan air dan pemukiman) maret 2020\n",
    "    counttotal = df.loc[1]['Count'] + df.loc[2]['Count'] + df.loc[3]['Count'] + df.loc[4]['Count'] + df.loc[5]['Count'] + df.loc[6]['Count']\n",
    "    # Menghitung persentase\n",
    "    persentase = a/counttotal*100\n",
    "    return str(np.around(persentase, 2))+'%'\n",
    "# h('Januari',3)"
   ]
  },
  {
   "cell_type": "code",
   "execution_count": null,
   "metadata": {},
   "outputs": [],
   "source": [
    "#Membuat dataframe gabungan Jan-Jun\n",
    "dfgabungan1 = pd.DataFrame({'Bulan': pd.Series(dtype='str'),\n",
    "                   'Vegetasi Awal': pd.Series(dtype='int'),\n",
    "                   'Vegetasi Akhir': pd.Series(dtype='int'),\n",
    "                   'Generatif': pd.Series(dtype='int'),\n",
    "                   'Panen & PL': pd.Series(dtype='int'),\n",
    "                   'Sawah Bukan Padi': pd.Series(dtype='int'),\n",
    "                   'Lain-lain': pd.Series(dtype='int'),\n",
    "                   'Permukiman dan Jalan': pd.Series(dtype='int'),})\n",
    "#Deklarasi nilai awal dalam dataframe\n",
    "dfgabungan1['Bulan'] = [\"Januari\",\"Februari\", \"Maret\", \"April\", \"Mei\", \"Juni\",\"Juli\",\"Agustus\",\"September\",\"Oktober\",\"November\",\"Desember\"]\n",
    "\n",
    "dfgabungan1 ['Vegetasi Awal'] = [h('Januari',1), \n",
    "                            h('Februari',1),\n",
    "                            h('Maret',1),\n",
    "                            h('April',1),\n",
    "                            h('Mei',1),\n",
    "                            h('Juni',1),\n",
    "                            h('Juli',1),\n",
    "                            h('Agustus',1),\n",
    "                            h('September',1),\n",
    "                            h('Oktober',1),\n",
    "                            h('November',1),\n",
    "                            h('Desember',1)]\n",
    "dfgabungan1 ['Vegetasi Akhir'] = [h('Januari',2), \n",
    "                            h('Februari',2),\n",
    "                            h('Maret',2),\n",
    "                            h('April',2),\n",
    "                            h('Mei',2),\n",
    "                            h('Juni',2),\n",
    "                            h('Juli',2),\n",
    "                            h('Agustus',2),\n",
    "                            h('September',2),\n",
    "                            h('Oktober',2),\n",
    "                            h('November',2),\n",
    "                            h('Desember',2)]\n",
    "dfgabungan1 ['Generatif'] = [h('Januari',3), \n",
    "                            h('Februari',3),\n",
    "                            h('Maret',3),\n",
    "                            h('April',3),\n",
    "                            h('Mei',3),\n",
    "                            h('Juni',3),\n",
    "                            h('Juli',3),\n",
    "                            h('Agustus',3),\n",
    "                            h('September',3),\n",
    "                            h('Oktober',3),\n",
    "                            h('November',3),\n",
    "                            h('Desember',3)]\n",
    "dfgabungan1 ['Panen & PL'] =[h('Januari',4), \n",
    "                            h('Februari',4),\n",
    "                            h('Maret',4),\n",
    "                            h('April',4),\n",
    "                            h('Mei',4),\n",
    "                            h('Juni',4),\n",
    "                            h('Juli',4),\n",
    "                            h('Agustus',4),\n",
    "                            h('September',4),\n",
    "                            h('Oktober',4),\n",
    "                            h('November',4),\n",
    "                            h('Desember',4)]\n",
    "dfgabungan1 ['Sawah Bukan Padi'] = [h('Januari',5), \n",
    "                            h('Februari',5),\n",
    "                            h('Maret',5),\n",
    "                            h('April',5),\n",
    "                            h('Mei',5),\n",
    "                            h('Juni',5),\n",
    "                            h('Juli',5),\n",
    "                            h('Agustus',5),\n",
    "                            h('September',5),\n",
    "                            h('Oktober',5),\n",
    "                            h('November',5),\n",
    "                            h('Desember',5)]\n",
    "dfgabungan1 ['Lain-lain'] = [h('Januari',6), \n",
    "                            h('Februari',6),\n",
    "                            h('Maret',6),\n",
    "                            h('April',6),\n",
    "                            h('Mei',6),\n",
    "                            h('Juni',6),\n",
    "                            h('Juli',6),\n",
    "                            h('Agustus',6),\n",
    "                            h('September',6),\n",
    "                            h('Oktober',6),\n",
    "                            h('November',6),\n",
    "                            h('Desember',6)]\n",
    "dfgabungan1 ['Permukiman dan Jalan'] = [h('Januari',7), \n",
    "                            h('Februari',7),\n",
    "                            h('Maret',7),\n",
    "                            h('April',7),\n",
    "                            h('Mei',7),\n",
    "                            h('Juni',7),\n",
    "                            h('Juli',7),\n",
    "                            h('Agustus',7),\n",
    "                            h('September',7),\n",
    "                            h('Oktober',7),\n",
    "                            h('November',7),\n",
    "                            h('Desember',7)]\n",
    "\n",
    "dfgabungan1 = dfgabungan1.set_index('Bulan')\n",
    "dfgabungan1\n",
    "\n",
    "#dibandingkan, diliat yg mayoritas itu diatas 50%, dibandingkan dengan data 1 bulan selain pemukiman, badan air"
   ]
  },
  {
   "cell_type": "code",
   "execution_count": null,
   "metadata": {},
   "outputs": [],
   "source": [
    "# cek rasio bukan sebagai str\n",
    "def n(bulan,loc):\n",
    "    #Data count vegetasi awal maret 2020\n",
    "    if (bulan == 'Januari'):\n",
    "        df = df01\n",
    "    if (bulan =='Februari'):\n",
    "        df = df02\n",
    "    if (bulan =='Maret'):\n",
    "        df = df03\n",
    "    if (bulan =='April'):\n",
    "        df = df04\n",
    "    if (bulan =='Mei'):\n",
    "        df = df05\n",
    "    if (bulan =='Juni'):\n",
    "        df = df06\n",
    "    if (bulan =='Juli'):\n",
    "        df = df07\n",
    "    if (bulan =='Agustus'):\n",
    "        df = df08\n",
    "    if (bulan =='September'):\n",
    "        df = df09\n",
    "    if (bulan =='Oktober'):\n",
    "        df = df10\n",
    "    if (bulan =='November'):\n",
    "        df = df11\n",
    "    if (bulan =='Desember'):\n",
    "        df = df12   \n",
    "    a = df.loc[loc]['Count']\n",
    "    #Data count total (tanpa badan air dan pemukiman) maret 2020\n",
    "    counttotal = df.loc[1]['Count'] + df.loc[2]['Count'] + df.loc[3]['Count'] + df.loc[4]['Count'] + df.loc[5]['Count'] + df.loc[6]['Count']\n",
    "    # Menghitung persentase\n",
    "    persentase = a/counttotal*100\n",
    "    return np.around(persentase, 2)\n",
    "\n",
    "#Membuat dataframe gabungan Jan-Jun\n",
    "dfgabungan2 = dfgabungan = pd.DataFrame({'Bulan': pd.Series(dtype='str'),\n",
    "                   'Badan Air': pd.Series(dtype='int'),\n",
    "                   'Vegetasi Awal': pd.Series(dtype='int'),\n",
    "                   'Vegetasi Akhir': pd.Series(dtype='int'),\n",
    "                   'Generatif': pd.Series(dtype='int'),\n",
    "                   'Panen & PL': pd.Series(dtype='int'),\n",
    "                   'Sawah Bukan Padi': pd.Series(dtype='int'),\n",
    "                   'Lain-lain': pd.Series(dtype='int'),\n",
    "                   'Permukiman dan Jalan': pd.Series(dtype='int')})\n",
    "\n",
    "#Deklarasi nilai awal dalam dataframe\n",
    "dfgabungan2['Bulan'] = [\"Januari\",\"Februari\", \"Maret\", \"April\", \"Mei\", \"Juni\",\"Juli\",\"Agustus\",\"September\",\"Oktober\",\"November\",\"Desember\"]\n",
    "\n",
    "dfgabungan2 ['Vegetasi Awal'] = [n('Januari',1), \n",
    "                            n('Februari',1),\n",
    "                            n('Maret',1),\n",
    "                            n('April',1),\n",
    "                            n('Mei',1),\n",
    "                            n('Juni',1),\n",
    "                            n('Juli',1),\n",
    "                            n('Agustus',1),\n",
    "                            n('September',1),\n",
    "                            n('Oktober',1),\n",
    "                            n('November',1),\n",
    "                            n('Desember',1)]\n",
    "dfgabungan2 ['Vegetasi Akhir'] = [n('Januari',2), \n",
    "                            n('Februari',2),\n",
    "                            n('Maret',2),\n",
    "                            n('April',2),\n",
    "                            n('Mei',2),\n",
    "                            n('Juni',2),\n",
    "                            n('Juli',2),\n",
    "                            n('Agustus',2),\n",
    "                            n('September',2),\n",
    "                            n('Oktober',2),\n",
    "                            n('November',2),\n",
    "                            n('Desember',2)]\n",
    "dfgabungan2 ['Generatif'] = [n('Januari',3), \n",
    "                            n('Februari',3),\n",
    "                            n('Maret',3),\n",
    "                            n('April',3),\n",
    "                            n('Mei',3),\n",
    "                            n('Juni',3),\n",
    "                            n('Juli',3),\n",
    "                            n('Agustus',3),\n",
    "                            n('September',3),\n",
    "                            n('Oktober',3),\n",
    "                            n('November',3),\n",
    "                            n('Desember',3)]\n",
    "dfgabungan2 ['Panen & PL'] =[n('Januari',4), \n",
    "                            n('Februari',4),\n",
    "                            n('Maret',4),\n",
    "                            n('April',4),\n",
    "                            n('Mei',4),\n",
    "                            n('Juni',4),\n",
    "                            n('Juli',4),\n",
    "                            n('Agustus',4),\n",
    "                            n('September',4),\n",
    "                            n('Oktober',4),\n",
    "                            n('November',4),\n",
    "                            n('Desember',4)]\n",
    "dfgabungan2 ['Sawah Bukan Padi'] = [n('Januari',5), \n",
    "                            n('Februari',5),\n",
    "                            n('Maret',5),\n",
    "                            n('April',5),\n",
    "                            n('Mei',5),\n",
    "                            n('Juni',5),\n",
    "                            n('Juli',5),\n",
    "                            n('Agustus',5),\n",
    "                            n('September',5),\n",
    "                            n('Oktober',5),\n",
    "                            n('November',5),\n",
    "                            n('Desember',5)]\n",
    "dfgabungan2 ['Lain-lain'] = [n('Januari',6), \n",
    "                            n('Februari',6),\n",
    "                            n('Maret',6),\n",
    "                            n('April',6),\n",
    "                            n('Mei',6),\n",
    "                            n('Juni',6),\n",
    "                            n('Juli',6),\n",
    "                            n('Agustus',6),\n",
    "                            n('September',6),\n",
    "                            n('Oktober',6),\n",
    "                            n('November',6),\n",
    "                            n('Desember',6)]\n",
    "dfgabungan2 ['Permukiman dan Jalan'] = [n('Januari',7), \n",
    "                            n('Februari',7),\n",
    "                            n('Maret',7),\n",
    "                            n('April',7),\n",
    "                            n('Mei',7),\n",
    "                            n('Juni',7),\n",
    "                            n('Juli',7),\n",
    "                            n('Agustus',7),\n",
    "                            n('September',7),\n",
    "                            n('Oktober',7),\n",
    "                            n('November',7),\n",
    "                            n('Desember',7)]"
   ]
  },
  {
   "cell_type": "code",
   "execution_count": null,
   "metadata": {},
   "outputs": [],
   "source": [
    "import matplotlib.pyplot as plt\n",
    "dfgabungan2.plot(kind=\"bar\",figsize=(30,18),width=0.9,fontsize=25,legend=True)\n",
    "plt.title(\"Perbandingan Data Karawang Jan-Des 2020\", fontsize=25)\n",
    "plt.xlabel(\"Bulan\", fontsize=25)\n",
    "plt.ylabel(\"Luas Area\", fontsize =25) #Belum dikali 100\n",
    "plt.legend(fontsize=20)\n",
    "plt.grid()\n",
    "\n",
    "#Perbandingan\n",
    "# Januari-mei dan september\n",
    "# februai, juni , oktober\n",
    "# maret, juli, september dan november"
   ]
  },
  {
   "cell_type": "markdown",
   "metadata": {},
   "source": [
    "## Comparison Graph "
   ]
  },
  {
   "cell_type": "code",
   "execution_count": null,
   "metadata": {},
   "outputs": [],
   "source": [
    "!pip install openpyxl"
   ]
  },
  {
   "cell_type": "code",
   "execution_count": null,
   "metadata": {},
   "outputs": [],
   "source": [
    "ksa = pd.read_excel('D:\\Kuliah\\KP\\#paper\\hasil_ksa_2020.xlsx')\n",
    "# print(dataframe1)"
   ]
  },
  {
   "cell_type": "code",
   "execution_count": null,
   "metadata": {},
   "outputs": [],
   "source": [
    "def showPlotBanding(n, label):\n",
    "    x_ar = [ksa[n][1], ksa[n][2], ksa[n][4],ksa[n][5],ksa[n][6],ksa[n][7],ksa[n][8],ksa[n][9],ksa[n][10],ksa[n][11],ksa[n][12]]\n",
    "    y_ar = [df01.loc[n]['Widearea'], \n",
    "               df02.loc[n]['Widearea'], \n",
    "               df04.loc[n]['Widearea'], \n",
    "               df05.loc[n]['Widearea'], \n",
    "               df06.loc[n]['Widearea'],\n",
    "               df07.loc[n]['Widearea'], \n",
    "               df08.loc[n]['Widearea'], \n",
    "               df09.loc[n]['Widearea'], \n",
    "               df10.loc[n]['Widearea'], \n",
    "               df11.loc[n]['Widearea'], \n",
    "               df12.loc[n]['Widearea']]\n",
    "    x_arr = np.array(x_ar)\n",
    "    y_arr = np.array(y_ar)\n",
    "    forPlot = pd.DataFrame({\n",
    "       str(label)+' KSA': x_arr,\n",
    "       str(label)+' GB': y_arr}, index=[\"Januari\",\"Februari\", \"April\", \"Mei\", \"Juni\",\"Juli\",\"Agustus\",\"September\",\"Oktober\",\"November\",\"Desember\"])\n",
    "\n",
    "    lines = forPlot.plot.line()\n",
    "#     index=[\"Januari\",\"Februari\", \"April\", \"Mei\", \"Juni\",\"Juli\",\"Agustus\",\"September\",\"Oktober\",\"November\",\"Desember\"]\n",
    "#     for x,y in zip(index,y_arr):\n",
    "\n",
    "#         label1 = \"{:.2f}\".format(y)\n",
    "\n",
    "#         plt.annotate(label1, # this is the text\n",
    "#                      (x,y), # this is the point to label\n",
    "#                      textcoords=\"offset points\", # how to position the text\n",
    "#                      xytext=(0,10), # distance from text to points (x,y)\n",
    "#                      ha='center') # horizontal alignment can be\n",
    "#     for x,y in zip(index,x_arr):    \n",
    "#         labelk = \"{:.2f}\".format(x)\n",
    "#         plt.annotate(labelk, # this is the text\n",
    "#                      (x,x), # this is the point to label\n",
    "#                      textcoords=\"offset points\", # how to position the text\n",
    "#                      xytext=(0,10), # distance from text to points (x,y)\n",
    "#                      ha='center') # horizontal alignment can be\n",
    "    return lines"
   ]
  },
  {
   "cell_type": "code",
   "execution_count": null,
   "metadata": {},
   "outputs": [],
   "source": [
    "# Vegetasi Awal\n",
    "showPlotBanding(1,'V1')"
   ]
  },
  {
   "cell_type": "code",
   "execution_count": null,
   "metadata": {},
   "outputs": [],
   "source": [
    "# Vegetasi Akhri\n",
    "showPlotBanding(2,'V2')"
   ]
  },
  {
   "cell_type": "code",
   "execution_count": null,
   "metadata": {},
   "outputs": [],
   "source": [
    "# Generatif\n",
    "showPlotBanding(3,'G')"
   ]
  },
  {
   "cell_type": "code",
   "execution_count": null,
   "metadata": {},
   "outputs": [],
   "source": [
    "# P&PL\n",
    "showPlotBanding(4,'P& PL')"
   ]
  },
  {
   "cell_type": "code",
   "execution_count": null,
   "metadata": {},
   "outputs": [],
   "source": [
    "# Sawah bukan padi\n",
    "# ga masuk paper kayaknya\n",
    "showPlotBanding(5,'Sawah bukan padi')"
   ]
  },
  {
   "cell_type": "code",
   "execution_count": null,
   "metadata": {},
   "outputs": [],
   "source": [
    "x1 = [0,1,4,5,7,0,1,0,6,2]\n",
    "y1 = [1,2,3,4,4,1,4,3,1,0]\n",
    "x2= np.array(x1)\n",
    "y2 = np.array(y1)\n",
    "# plt.plot(x_arr, y_arr)\n",
    "f = pd.DataFrame({\n",
    "       ' KSA': x2,\n",
    "       ' GB': y2})\n",
    "lines = f.plot.line()\n",
    "# zip joins x and y coordinates in pairs\n",
    "for x,y in zip(x2,y2):\n",
    "\n",
    "    label = \"{:.2f}\".format(y)\n",
    "\n",
    "    plt.annotate(label, # this is the text\n",
    "                 (x,y), # this is the point to label\n",
    "                 textcoords=\"offset points\", # how to position the text\n",
    "                 xytext=(0,5), # distance from text to points (x,y)\n",
    "                 ha='center') # horizontal alignment can be\n",
    "    labelk = \"{:.2f}\".format(x)\n",
    "\n",
    "    plt.annotate(labelk, # this is the text\n",
    "                 (x,y), # this is the point to label\n",
    "                 textcoords=\"offset points\", # how to position the text\n",
    "                 xytext=(0,5), # distance from text to points (x,y)\n",
    "                 ha='center') # horizontal alignment can be"
   ]
  },
  {
   "cell_type": "code",
   "execution_count": null,
   "metadata": {},
   "outputs": [],
   "source": []
  }
 ],
 "metadata": {
  "anaconda-cloud": {},
  "kernelspec": {
   "display_name": "gee",
   "language": "python",
   "name": "gee"
  },
  "language_info": {
   "codemirror_mode": {
    "name": "ipython",
    "version": 3
   },
   "file_extension": ".py",
   "mimetype": "text/x-python",
   "name": "python",
   "nbconvert_exporter": "python",
   "pygments_lexer": "ipython3",
   "version": "3.7.13"
  }
 },
 "nbformat": 4,
 "nbformat_minor": 4
}
